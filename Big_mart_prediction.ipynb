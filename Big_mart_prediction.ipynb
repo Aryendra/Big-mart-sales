{
 "cells": [
  {
   "cell_type": "code",
   "execution_count": 32,
   "metadata": {},
   "outputs": [
    {
     "data": {
      "text/plain": [
       "array([ 4907.20744937,  3970.6727838 ,  2466.1478402 , ...,\n",
       "        5332.42359303, -1764.24774115,  1911.15118968])"
      ]
     },
     "execution_count": 32,
     "metadata": {},
     "output_type": "execute_result"
    }
   ],
   "source": [
    "import pandas as pd\n",
    "import numpy as np\n",
    "from sklearn.model_selection import train_test_split\n",
    "from pandas import Series,DataFrame\n",
    "train=pd.read_csv(r\"C:\\Users\\aryen\\Downloads\\train_v9rqX0R.csv\")\n",
    "\n",
    "train['Outlet_Size'].fillna('Small',inplace=True)\n",
    "train['Item_Weight'].fillna(train['Item_Weight'].mean(),inplace=True)\n",
    "train['Item_Visibility']=train['Item_Visibility'].replace(0,np.mean(train['Item_Visibility']))\n",
    "train['Outlet_Establishment_Year']=2013-train['Outlet_Establishment_Year']\n",
    "my_list=list(train.select_dtypes(include=['object']).columns)\n",
    "dummies=pd.get_dummies(train[my_list],prefix=my_list)\n",
    "train.drop(my_list,axis=1,inplace=True)\n",
    "X=pd.concat([train,dummies],axis=1)\n",
    "from sklearn.linear_model import LinearRegression\n",
    "model=LinearRegression()\n",
    "X=X.drop('Item_Outlet_Sales',axis=1)\n",
    "\n",
    "Y=train['Item_Outlet_Sales']\n",
    "x_train,x_test,y_train,y_test=train_test_split(X,Y,test_size=0.25)\n",
    "model.fit(x_train,y_train)\n",
    "pred=model.predict(x_test)\n",
    "mse=np.sqrt(np.mean((pred-y_test)**2))\n",
    "rms=np.sqrt(np.mean(np.power((np.array(y_test)-np.array(pred)),2)))\n",
    "np.array(pred)"
   ]
  },
  {
   "cell_type": "code",
   "execution_count": null,
   "metadata": {},
   "outputs": [],
   "source": []
  },
  {
   "cell_type": "code",
   "execution_count": null,
   "metadata": {},
   "outputs": [],
   "source": []
  }
 ],
 "metadata": {
  "kernelspec": {
   "display_name": "Python 3",
   "language": "python",
   "name": "python3"
  },
  "language_info": {
   "codemirror_mode": {
    "name": "ipython",
    "version": 3
   },
   "file_extension": ".py",
   "mimetype": "text/x-python",
   "name": "python",
   "nbconvert_exporter": "python",
   "pygments_lexer": "ipython3",
   "version": "3.7.4"
  }
 },
 "nbformat": 4,
 "nbformat_minor": 2
}
